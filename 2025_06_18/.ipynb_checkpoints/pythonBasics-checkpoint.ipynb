{
 "cells": [
  {
   "cell_type": "markdown",
   "id": "5ee92af8-66e0-47be-af6f-11d61c53226a",
   "metadata": {},
   "source": [
    "## Basic Operations "
   ]
  },
  {
   "cell_type": "code",
   "execution_count": 2,
   "id": "a9e47166-f2cf-4436-ba17-3718093d39f9",
   "metadata": {},
   "outputs": [
    {
     "name": "stdout",
     "output_type": "stream",
     "text": [
      "8\n"
     ]
    }
   ],
   "source": [
    "addition = 3 + 5 \n",
    "print (addition)\n"
   ]
  },
  {
   "cell_type": "markdown",
   "id": "48256242-8d7f-4b7d-aaf6-aae5da7dc9bf",
   "metadata": {},
   "source": [
    "## Data Structures "
   ]
  },
  {
   "cell_type": "code",
   "execution_count": 8,
   "id": "26ed5281-cec1-4eac-bf31-416bc9e911e4",
   "metadata": {},
   "outputs": [],
   "source": [
    "randomList = [1 ,2 ,3 ,4 ,5 ,6 ]"
   ]
  },
  {
   "cell_type": "markdown",
   "id": "8dd60ef0-95ef-4ff1-a16a-ceb642dc69b2",
   "metadata": {},
   "source": [
    "## Multiply all the odd numbers in the given list "
   ]
  },
  {
   "cell_type": "code",
   "execution_count": 9,
   "id": "136bf587-7f1f-47bd-8c06-451f8f5c623b",
   "metadata": {},
   "outputs": [],
   "source": [
    "result = 1"
   ]
  },
  {
   "cell_type": "code",
   "execution_count": 17,
   "id": "bcc5ee20-c82f-4598-94df-c93d22736cdf",
   "metadata": {},
   "outputs": [
    {
     "name": "stdout",
     "output_type": "stream",
     "text": [
      "The final answer is: 10\n"
     ]
    }
   ],
   "source": [
    "randomList = [1, 2, 3, 4, 5, 6]\n",
    "result = 1\n",
    "for _ in randomList:\n",
    "    if _ % 2 != 0:\n",
    "        result += _\n",
    "print(f'The final answer is: {result}')\n"
   ]
  },
  {
   "cell_type": "markdown",
   "id": "dddb2d24-f8db-48e2-a79d-db3ec1b96554",
   "metadata": {},
   "source": [
    " ## Adding a new number to the list "
   ]
  },
  {
   "cell_type": "code",
   "execution_count": 11,
   "id": "29935d7b-a845-49ba-b56c-36dc7f141c5f",
   "metadata": {},
   "outputs": [
    {
     "data": {
      "text/plain": [
       "[1, 2, 3, 4, 5, 6]"
      ]
     },
     "execution_count": 11,
     "metadata": {},
     "output_type": "execute_result"
    }
   ],
   "source": [
    "randomList "
   ]
  },
  {
   "cell_type": "code",
   "execution_count": 18,
   "id": "787f4ead-be8e-4299-aeb2-b463b35631ac",
   "metadata": {},
   "outputs": [
    {
     "name": "stdout",
     "output_type": "stream",
     "text": [
      "[1, 2, 3, 4, 5, 6, 7]\n"
     ]
    }
   ],
   "source": [
    "randomList.append(7)\n",
    "print(randomList)"
   ]
  },
  {
   "cell_type": "markdown",
   "id": "2d5d958c-3269-475c-9cb4-0ec37092f79a",
   "metadata": {},
   "source": [
    "# Deleting a existing number from the list "
   ]
  },
  {
   "cell_type": "code",
   "execution_count": 19,
   "id": "73319616-8a52-4563-9957-c9bb1551409c",
   "metadata": {},
   "outputs": [
    {
     "data": {
      "text/plain": [
       "[1, 2, 3, 4, 5, 6, 7]"
      ]
     },
     "execution_count": 19,
     "metadata": {},
     "output_type": "execute_result"
    }
   ],
   "source": [
    "randomList"
   ]
  },
  {
   "cell_type": "code",
   "execution_count": 20,
   "id": "a35e5ad3-7e0d-4da2-8faf-566f1898d1c5",
   "metadata": {},
   "outputs": [
    {
     "name": "stdout",
     "output_type": "stream",
     "text": [
      "[1, 2, 3, 4, 5, 6]\n"
     ]
    }
   ],
   "source": [
    "randomList.remove(7)\n",
    "print(randomList)"
   ]
  },
  {
   "cell_type": "code",
   "execution_count": null,
   "id": "d10fa6e2-6542-427c-a002-37b7312b7055",
   "metadata": {},
   "outputs": [],
   "source": []
  }
 ],
 "metadata": {
  "kernelspec": {
   "display_name": "Python 3 (ipykernel)",
   "language": "python",
   "name": "python3"
  },
  "language_info": {
   "codemirror_mode": {
    "name": "ipython",
    "version": 3
   },
   "file_extension": ".py",
   "mimetype": "text/x-python",
   "name": "python",
   "nbconvert_exporter": "python",
   "pygments_lexer": "ipython3",
   "version": "3.12.6"
  }
 },
 "nbformat": 4,
 "nbformat_minor": 5
}
