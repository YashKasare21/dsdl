{
 "cells": [
  {
   "cell_type": "code",
   "execution_count": 2,
   "id": "7d18a2f0-3ef5-487f-b1e8-321d03605ff8",
   "metadata": {},
   "outputs": [],
   "source": [
    "import numpy as np "
   ]
  },
  {
   "cell_type": "code",
   "execution_count": 6,
   "id": "80ca25e0-b8b2-49e2-9787-4c569b310b9f",
   "metadata": {},
   "outputs": [],
   "source": [
    "import numpy as np\n",
    "\n",
    "inputArray = np.array([\n",
    "    [1, 2, 3],\n",
    "    [4, 5, 6]  \n",
    "])\n"
   ]
  },
  {
   "cell_type": "code",
   "execution_count": 7,
   "id": "cfcc4772-4e16-4ab0-b3be-ff4102caf1a7",
   "metadata": {},
   "outputs": [
    {
     "name": "stdout",
     "output_type": "stream",
     "text": [
      "[[1 2 3]\n",
      " [4 5 6]]\n"
     ]
    }
   ],
   "source": [
    "print(inputArray)"
   ]
  },
  {
   "cell_type": "code",
   "execution_count": 17,
   "id": "fbf5f3a0-760b-4462-b8d9-281f609b8222",
   "metadata": {},
   "outputs": [
    {
     "data": {
      "text/plain": [
       "(2, 3)"
      ]
     },
     "execution_count": 17,
     "metadata": {},
     "output_type": "execute_result"
    }
   ],
   "source": [
    "inputArray.shape"
   ]
  },
  {
   "cell_type": "code",
   "execution_count": 8,
   "id": "bb81f1e2-2a56-4a33-870d-d8b7452eaa63",
   "metadata": {},
   "outputs": [],
   "source": [
    "A = np.array([[1, 2], [3, 4]])\n",
    "B = np.array([[5, 6], [7, 8]])"
   ]
  },
  {
   "cell_type": "markdown",
   "id": "00aefa5c-ad4c-4d06-b9bc-d31370b07984",
   "metadata": {},
   "source": [
    "# Performing all the operations "
   ]
  },
  {
   "cell_type": "code",
   "execution_count": 9,
   "id": "f1b3322c-9241-476b-b0a0-d787add06762",
   "metadata": {},
   "outputs": [
    {
     "name": "stdout",
     "output_type": "stream",
     "text": [
      "Addition:\n",
      " [[ 6  8]\n",
      " [10 12]]\n"
     ]
    }
   ],
   "source": [
    "result = A + B\n",
    "print(\"Addition:\\n\", result)"
   ]
  },
  {
   "cell_type": "code",
   "execution_count": 10,
   "id": "7bc67d0a-539c-4693-9946-244d74a1f708",
   "metadata": {},
   "outputs": [
    {
     "name": "stdout",
     "output_type": "stream",
     "text": [
      "Subtraction:\n",
      " [[-4 -4]\n",
      " [-4 -4]]\n"
     ]
    }
   ],
   "source": [
    "result = A - B\n",
    "print(\"Subtraction:\\n\", result)"
   ]
  },
  {
   "cell_type": "code",
   "execution_count": 11,
   "id": "35d6df88-2a01-4a77-a70f-d12bc081d44a",
   "metadata": {},
   "outputs": [
    {
     "name": "stdout",
     "output_type": "stream",
     "text": [
      "Matrix Multiplication:\n",
      " [[19 22]\n",
      " [43 50]]\n"
     ]
    }
   ],
   "source": [
    "result = A @ B  # Or use np.dot(A, B)\n",
    "print(\"Matrix Multiplication:\\n\", result)\n"
   ]
  },
  {
   "cell_type": "code",
   "execution_count": 12,
   "id": "621e0847-84c6-4d37-99b4-3e4eb0edd021",
   "metadata": {},
   "outputs": [
    {
     "name": "stdout",
     "output_type": "stream",
     "text": [
      "Element-wise Multiplication:\n",
      " [[ 5 12]\n",
      " [21 32]]\n"
     ]
    }
   ],
   "source": [
    "result = A * B\n",
    "print(\"Element-wise Multiplication:\\n\", result)\n"
   ]
  },
  {
   "cell_type": "code",
   "execution_count": 13,
   "id": "6ddd228a-9a0f-4707-ab5b-aa722ec93b03",
   "metadata": {},
   "outputs": [
    {
     "name": "stdout",
     "output_type": "stream",
     "text": [
      "Division:\n",
      " [[0.2        0.33333333]\n",
      " [0.42857143 0.5       ]]\n"
     ]
    }
   ],
   "source": [
    "result = A / B\n",
    "print(\"Division:\\n\", result)\n"
   ]
  },
  {
   "cell_type": "code",
   "execution_count": 14,
   "id": "8b549735-7a03-49a2-90be-3985b44626ad",
   "metadata": {},
   "outputs": [
    {
     "name": "stdout",
     "output_type": "stream",
     "text": [
      "Transpose of A:\n",
      " [[1 3]\n",
      " [2 4]]\n"
     ]
    }
   ],
   "source": [
    "print(\"Transpose of A:\\n\", A.T)\n"
   ]
  },
  {
   "cell_type": "code",
   "execution_count": 15,
   "id": "9de9b652-6f8b-4bfc-a343-10a52538239e",
   "metadata": {},
   "outputs": [
    {
     "name": "stdout",
     "output_type": "stream",
     "text": [
      "Sum: 10\n",
      "Mean: 2.5\n",
      "Max: 4\n",
      "Min: 1\n"
     ]
    }
   ],
   "source": [
    "print(\"Sum:\", np.sum(A))\n",
    "print(\"Mean:\", np.mean(A))\n",
    "print(\"Max:\", np.max(A))\n",
    "print(\"Min:\", np.min(A))\n"
   ]
  },
  {
   "cell_type": "code",
   "execution_count": 16,
   "id": "7331610e-68c9-48da-988b-34429bb13318",
   "metadata": {},
   "outputs": [
    {
     "name": "stdout",
     "output_type": "stream",
     "text": [
      "Square root:\n",
      " [[1.         1.41421356]\n",
      " [1.73205081 2.        ]]\n",
      "A squared:\n",
      " [[ 1  4]\n",
      " [ 9 16]]\n"
     ]
    }
   ],
   "source": [
    "print(\"Square root:\\n\", np.sqrt(A))\n",
    "print(\"A squared:\\n\", np.power(A, 2))\n"
   ]
  },
  {
   "cell_type": "code",
   "execution_count": null,
   "id": "34b8d6a2-d973-4e4b-a2f0-90eea2e1bb94",
   "metadata": {},
   "outputs": [],
   "source": []
  }
 ],
 "metadata": {
  "kernelspec": {
   "display_name": "Python 3 (ipykernel)",
   "language": "python",
   "name": "python3"
  },
  "language_info": {
   "codemirror_mode": {
    "name": "ipython",
    "version": 3
   },
   "file_extension": ".py",
   "mimetype": "text/x-python",
   "name": "python",
   "nbconvert_exporter": "python",
   "pygments_lexer": "ipython3",
   "version": "3.12.6"
  }
 },
 "nbformat": 4,
 "nbformat_minor": 5
}
